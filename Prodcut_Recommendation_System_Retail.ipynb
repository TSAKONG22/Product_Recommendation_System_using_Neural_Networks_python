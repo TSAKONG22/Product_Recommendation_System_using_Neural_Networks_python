{
 "cells": [
  {
   "cell_type": "code",
   "execution_count": null,
   "metadata": {},
   "outputs": [],
   "source": [
    "# Import Libraries\n",
    "import pandas as pd\n",
    "import numpy as np\n",
    "import matplotlib.pyplot as plt\n",
    "import seaborn as sns\n",
    "from scipy.sparse.linalg import svds\n",
    "from sklearn.model_selection import train_test_split, KFold\n",
    "from sklearn.metrics import mean_squared_error\n",
    "from sklearn.feature_extraction.text import TfidfVectorizer\n",
    "from sklearn.metrics.pairwise import linear_kernel"
   ]
  },
  {
   "cell_type": "markdown",
   "metadata": {},
   "source": [
    "## Exploratory Data Analysis\n",
    "---"
   ]
  },
  {
   "cell_type": "code",
   "execution_count": null,
   "metadata": {},
   "outputs": [],
   "source": [
    "# Load the dataset\n",
    "file_path = '/path/to/your/dataset.csv'  # Update this with your actual file path\n",
    "data = pd.read_csv(file_path)\n",
    "\n",
    "# ----- Exploratory Data Analysis (EDA) -----\n",
    "\n",
    "# Basic Overview of the Dataset\n",
    "print(data.head())\n",
    "print(data.info())\n",
    "print(data.describe())\n",
    "\n",
    "# Missing Values\n",
    "missing_values = data.isnull().sum()\n",
    "print(\"Missing values in each column:\\n\", missing_values)\n",
    "\n",
    "# Distribution of 'Quantity' and 'Price'\n",
    "plt.figure(figsize=(12, 6))\n",
    "plt.subplot(1, 2, 1)\n",
    "sns.histplot(data['Quantity'], kde=True)\n",
    "plt.title('Quantity Distribution')\n",
    "plt.subplot(1, 2, 2)\n",
    "sns.histplot(data['Price'], kde=True)\n",
    "plt.title('Price Distribution')\n",
    "plt.show()\n",
    "\n",
    "# Unique Customers and Products\n",
    "unique_customers = data['Customer ID'].nunique()\n",
    "unique_products = data['StockCode'].nunique()\n",
    "print(f\"Number of unique customers: {unique_customers}\")\n",
    "print(f\"Number of unique products: {unique_products}\")\n",
    "\n",
    "# Top Selling Products\n",
    "top_products = data['Description'].value_counts().head(10)\n",
    "plt.figure(figsize=(10, 6))\n",
    "sns.barplot(x=top_products, y=top_products.index)\n",
    "plt.title('Top 10 Selling Products')\n",
    "plt.xlabel('Frequency')\n",
    "plt.show()\n",
    "\n",
    "# Purchase Patterns Across Countries\n",
    "country_order_counts = data['Country'].value_counts().head(10)\n",
    "plt.figure(figsize=(10, 6))\n",
    "sns.barplot(x=country_order_counts, y=country_order_counts.index)\n",
    "plt.title('Top 10 Countries by Number of Orders')\n",
    "plt.xlabel('Number of Orders')\n",
    "plt.show()"
   ]
  },
  {
   "cell_type": "markdown",
   "metadata": {},
   "source": [
    "## Collaborative Filtering Model\n",
    "\n",
    "---"
   ]
  },
  {
   "cell_type": "code",
   "execution_count": null,
   "metadata": {},
   "outputs": [],
   "source": [
    "# Data Preprocessing for Collaborative Filtering\n",
    "data['InvoiceDate'] = pd.to_datetime(data['InvoiceDate'])\n",
    "data['Customer ID'] = data['Customer ID'].fillna(0).astype(int)\n",
    "data = data[~data['Invoice'].str.contains('C', na=False)]\n",
    "data = data[(data['Quantity'] > 0) & (data['Price'] > 0) & (data['Customer ID'] != 0)]\n",
    "interaction_matrix = data.groupby(['Customer ID', 'StockCode']).size().unstack(fill_value=0)\n",
    "\n",
    "# Function to calculate RMSE\n",
    "def rmse(prediction, ground_truth):\n",
    "    prediction = prediction[ground_truth.nonzero()].flatten()\n",
    "    ground_truth = ground_truth[ground_truth.nonzero()].flatten()\n",
    "    return np.sqrt(mean_squared_error(prediction, ground_truth))\n",
    "\n",
    "# Convert the interaction matrix to a floating-point data type\n",
    "interaction_matrix_sparse = interaction_matrix.values.astype(float)\n",
    "\n",
    "# Split the data into training and testing sets\n",
    "train_data, test_data = train_test_split(interaction_matrix_sparse, test_size=0.2, random_state=42)\n",
    "\n",
    "# Perform matrix factorization using SVD\n",
    "u, s, vt = svds(train_data, k=50)\n",
    "s_diag_matrix = np.diag(s)\n",
    "X_pred = np.dot(np.dot(u, s_diag_matrix), vt)\n",
    "\n",
    "# Evaluate the model\n",
    "train_rmse = rmse(X_pred, train_data)\n",
    "test_rmse = rmse(X_pred, test_data)\n",
    "\n",
    "print(f\"Collaborative Filtering - Train RMSE: {train_rmse}, Test RMSE: {test_rmse}\")"
   ]
  },
  {
   "cell_type": "markdown",
   "metadata": {},
   "source": [
    "### Cross Validation for Collaborative Filtering\n",
    "\n",
    "---"
   ]
  },
  {
   "cell_type": "code",
   "execution_count": null,
   "metadata": {},
   "outputs": [],
   "source": [
    "# Cross Validation for Collaborative Filtering\n",
    "def cross_validate_cf(data, num_factors_list, num_folds=5):\n",
    "    kf = KFold(n_splits=num_folds, shuffle=True, random_state=42)\n",
    "    rmse_scores = {factor: [] for factor in num_factors_list}\n",
    "\n",
    "    for train_index, test_index in kf.split(data):\n",
    "        train_data, test_data = data[train_index], data[test_index]\n",
    "\n",
    "        for factor in num_factors_list:\n",
    "            u, s, vt = svds(train_data, k=factor)\n",
    "            s_diag_matrix = np.diag(s)\n",
    "            X_pred = np.dot(np.dot(u, s_diag_matrix), vt)\n",
    "            score = rmse(X_pred, test_data)\n",
    "            rmse_scores[factor].append(score)\n",
    "\n",
    "    return rmse_scores\n",
    "\n",
    "\n",
    "# Hyperparameter Tuning\n",
    "num_factors_list = [20, 50, 100]\n",
    "cv_scores = cross_validate_cf(interaction_matrix_sparse, num_factors_list)\n",
    "print(cv_scores)"
   ]
  },
  {
   "cell_type": "markdown",
   "metadata": {},
   "source": [
    "## Content Based Filtering\n",
    "\n",
    "---"
   ]
  },
  {
   "cell_type": "code",
   "execution_count": null,
   "metadata": {},
   "outputs": [],
   "source": [
    "# Extracting product descriptions\n",
    "product_descriptions = data[['StockCode', 'Description']].drop_duplicates('StockCode').set_index('StockCode')\n",
    "product_descriptions = product_descriptions.dropna()\n",
    "\n",
    "# Split the product descriptions into training and testing sets\n",
    "train_descriptions, test_descriptions = train_test_split(product_descriptions, test_size=0.2, random_state=42)\n",
    "\n",
    "# Use TF-IDF Vectorizer on training data\n",
    "tfidf_train = TfidfVectorizer(stop_words='english')\n",
    "tfidf_train_matrix = tfidf_train.fit_transform(train_descriptions['Description'])\n",
    "\n",
    "# Compute the cosine similarity matrix for training data\n",
    "cosine_sim_train = linear_kernel(tfidf_train_matrix, tfidf_train_matrix)\n",
    "\n",
    "# Construct a reverse map of indices and product IDs for training data\n",
    "indices_train = pd.Series(index=train_descriptions.index, data=range(len(train_descriptions)))\n",
    "\n",
    "# Function to get recommendations based on the training set similarity\n",
    "def get_recommendations_train(product_id, cosine_sim=cosine_sim_train):\n",
    "    idx = indices_train[product_id]\n",
    "    sim_scores = list(enumerate(cosine_sim[idx]))\n",
    "    sim_scores = sorted(sim_scores, key=lambda x: x[1], reverse=True)\n",
    "    sim_scores = sim_scores[1:11]\n",
    "    product_indices = [i[0] for i in sim_scores]\n",
    "    return train_descriptions.iloc[product_indices]\n",
    "\n",
    "# Example: Get recommendations for a specific product from the training set\n",
    "example_product_id_train = train_descriptions.index[0]\n",
    "recommendations_train = get_recommendations_train(example_product_id_train)\n",
    "print(\"Content-Based Filtering - Recommendations from Training Set:\", recommendations_train)\n",
    "\n",
    "# Note: Testing in Content-Based Filtering here is more qualitative.\n",
    "# For each product in the test set, you can get recommendations and \n",
    "# manually check if they are sensible and relevant."
   ]
  },
  {
   "cell_type": "markdown",
   "metadata": {},
   "source": [
    "### Cross Validation for Content Based Filtering\n",
    "\n",
    "---"
   ]
  },
  {
   "cell_type": "code",
   "execution_count": null,
   "metadata": {},
   "outputs": [],
   "source": [
    "# Experimentation Function for Content-Based Filtering\n",
    "def experiment_cbf_params(data, ngram_range=(1,1), max_features=None):\n",
    "    tfidf = TfidfVectorizer(stop_words='english', ngram_range=ngram_range, max_features=max_features)\n",
    "    tfidf_matrix = tfidf.fit_transform(data['Description'])\n",
    "\n",
    "    # Compute the cosine similarity matrix\n",
    "    cosine_sim = linear_kernel(tfidf_matrix, tfidf_matrix)\n",
    "\n",
    "    # [Include the rest of your CBF implementation here]\n",
    "\n",
    "# Example usage of the experiment function\n",
    "experiment_cbf_params(train_descriptions, ngram_range=(1,2), max_features=500)"
   ]
  }
 ],
 "metadata": {
  "language_info": {
   "name": "python"
  }
 },
 "nbformat": 4,
 "nbformat_minor": 2
}
